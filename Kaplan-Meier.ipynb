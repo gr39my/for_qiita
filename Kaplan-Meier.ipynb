{
 "cells": [
  {
   "cell_type": "code",
   "execution_count": 2,
   "metadata": {},
   "outputs": [],
   "source": [
    "from lifelines import KaplanMeierFitter\n",
    "import pandas as pd\n",
    "import numpy as np"
   ]
  },
  {
   "cell_type": "code",
   "execution_count": 4,
   "metadata": {},
   "outputs": [],
   "source": [
    "# サンプルデータの生成\n",
    "# ここでは、`duration`は顧客がサービスを利用していた期間（例えば、月数）、\n",
    "# `event_observed`は顧客が解約したかどうか（1は解約、0はまだ継続中または右側打ち切りデータ）を示します。\n",
    "data = {\n",
    "    'duration': [5, 6, 6, 2.5, 4, 3],  # サービス利用期間\n",
    "    'event_observed': [1, 0, 1, 1, 1, 0]  # 解約したかどうか（1: はい、0: いいえ）\n",
    "}\n",
    "df = pd.DataFrame(data)"
   ]
  },
  {
   "cell_type": "code",
   "execution_count": 5,
   "metadata": {},
   "outputs": [
    {
     "name": "stdout",
     "output_type": "stream",
     "text": [
      "          KM_estimate\n",
      "timeline             \n",
      "0.0          1.000000\n",
      "2.5          0.833333\n",
      "3.0          0.833333\n",
      "4.0          0.625000\n",
      "5.0          0.416667\n",
      "6.0          0.208333\n",
      "5.0\n"
     ]
    },
    {
     "data": {
      "image/png": "[encoded data removed]",
      "text/plain": [
       "<Figure size 432x288 with 1 Axes>"
      ]
     },
     "metadata": {
      "needs_background": "light"
     },
     "output_type": "display_data"
    }
   ],
   "source": [
    "# Kaplan-Meierフィッターのインスタンス化\n",
    "kmf = KaplanMeierFitter()\n",
    "\n",
    "# データフィット\n",
    "kmf.fit(durations=df['duration'], event_observed=df['event_observed'])\n",
    "\n",
    "# 生存曲線のプロット\n",
    "kmf.plot_survival_function()\n",
    "\n",
    "# 結果の表示\n",
    "print(kmf.survival_function_)\n",
    "print(kmf.median_survival_time_)"
   ]
  },
  {
   "cell_type": "code",
   "execution_count": null,
   "metadata": {},
   "outputs": [],
   "source": []
  }
 ],
 "metadata": {
  "kernelspec": {
   "display_name": "Python 3",
   "language": "python",
   "name": "python3"
  },
  "language_info": {
   "codemirror_mode": {
    "name": "ipython",
    "version": 3
   },
   "file_extension": ".py",
   "mimetype": "text/x-python",
   "name": "python",
   "nbconvert_exporter": "python",
   "pygments_lexer": "ipython3",
   "version": "3.8.5"
  }
 },
 "nbformat": 4,
 "nbformat_minor": 2
}
